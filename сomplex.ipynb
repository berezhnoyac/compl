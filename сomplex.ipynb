{
 "cells": [
  {
   "cell_type": "code",
   "execution_count": 2,
   "metadata": {},
   "outputs": [],
   "source": [
    "from math import sqrt\n",
    "\n",
    "\n",
    "class Complex:\n",
    "    def __init__(self, x, y):  # комплексное число в  форме z = x + iy\n",
    "        self.x = x\n",
    "        self.y = y\n",
    "\n",
    "\n",
    "    @property\n",
    "    def abs(self):\n",
    "        return sqrt(self.x ** 2 + self.y ** 2)\n",
    "\n",
    "\n",
    "    def __eq__(self, anotherNumber):\n",
    "        return (self.x == anotherNumber.x and self.y == anotherNumber.y)\n",
    "\n",
    "\n",
    "    def __add__(self, anotherNumber):\n",
    "        return Complex(self.x + anotherNumber.x, self.y + anotherNumber.y)\n",
    "\n",
    "\n",
    "    def __sub__(self, anotherNumber):\n",
    "        return Complex(self.x - anotherNumber.x, self.y - anotherNumber.y)\n",
    "\n",
    "\n",
    "    def __mul__(self, anotherNumber):\n",
    "        return Complex(\n",
    "            self.x * anotherNumber.x - self.y * anotherNumber.y,\n",
    "            self.y * anotherNumber.x + self.x * anotherNumber.y\n",
    "        )\n",
    "\n",
    "\n",
    "    def __truediv__(self, anotherNumber):\n",
    "        return Complex(\n",
    "            (self.x * anotherNumber.x + self.y * anotherNumber.y) / anotherNumber.abs ** 2,\n",
    "            (self.y * anotherNumber.x - self.x * anotherNumber.y) / anotherNumber.abs ** 2\n",
    "        )\n",
    "\n",
    "\n",
    "    def __str__(self):\n",
    "        if self.y == 0:\n",
    "            return str(self.x)\n",
    "        elif self.x == 0 and self.y != 0:\n",
    "            if self.y == 1:\n",
    "                return 'i'\n",
    "            else:\n",
    "                return str(self.y) + 'i'\n",
    "        else:\n",
    "            if self.y == 1:\n",
    "                return str(self.x) + ' + i'\n",
    "            else:\n",
    "                return str(self.x) + ' + ' + str(self.y) + 'i'\n",
    "\n",
    "\n",
    "    def __repr__(self):\n",
    "        return Complex.__str__(self)"
   ]
  },
  {
   "cell_type": "markdown",
   "metadata": {},
   "source": [
    "Пример:"
   ]
  },
  {
   "cell_type": "code",
   "execution_count": 3,
   "metadata": {},
   "outputs": [],
   "source": [
    "a = Complex(5, 6)\n",
    "b = Complex(4, 3)\n",
    "real = Complex(1, 0)\n",
    "imaginary = Complex(0, 1)\n",
    "imaginary_unit = Complex(0, 1)"
   ]
  },
  {
   "cell_type": "code",
   "execution_count": 4,
   "metadata": {},
   "outputs": [
    {
     "data": {
      "text/plain": [
       "(5 + 6i, 4 + 3i, 1, i, i)"
      ]
     },
     "execution_count": 4,
     "metadata": {},
     "output_type": "execute_result"
    }
   ],
   "source": [
    "a, b, real, imaginary, imaginary_unit"
   ]
  },
  {
   "cell_type": "code",
   "execution_count": 5,
   "metadata": {},
   "outputs": [
    {
     "name": "stdout",
     "output_type": "stream",
     "text": [
      "5 + 6i\n"
     ]
    }
   ],
   "source": [
    "print(a)"
   ]
  },
  {
   "cell_type": "code",
   "execution_count": 6,
   "metadata": {},
   "outputs": [
    {
     "data": {
      "text/plain": [
       "(9 + 9i, 1 + 3i, 2 + 39i, 1.52 + 0.36i)"
      ]
     },
     "execution_count": 6,
     "metadata": {},
     "output_type": "execute_result"
    }
   ],
   "source": [
    "a + b, a - b, a * b, a / b"
   ]
  },
  {
   "cell_type": "code",
   "execution_count": 7,
   "metadata": {},
   "outputs": [
    {
     "data": {
      "text/plain": [
       "(7.810249675906654, 5.0)"
      ]
     },
     "execution_count": 7,
     "metadata": {},
     "output_type": "execute_result"
    }
   ],
   "source": [
    "a.abs, b.abs"
   ]
  },
  {
   "cell_type": "code",
   "execution_count": null,
   "metadata": {},
   "outputs": [],
   "source": []
  }
 ],
 "metadata": {
  "kernelspec": {
   "display_name": "Python 3",
   "language": "python",
   "name": "python3"
  },
  "language_info": {
   "codemirror_mode": {
    "name": "ipython",
    "version": 3
   },
   "file_extension": ".py",
   "mimetype": "text/x-python",
   "name": "python",
   "nbconvert_exporter": "python",
   "pygments_lexer": "ipython3",
   "version": "3.7.6"
  }
 },
 "nbformat": 4,
 "nbformat_minor": 2
}
